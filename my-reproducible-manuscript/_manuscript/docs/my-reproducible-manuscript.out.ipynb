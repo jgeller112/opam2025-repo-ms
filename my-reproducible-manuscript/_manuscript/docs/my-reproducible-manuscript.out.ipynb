{
 "cells": [
  {
   "cell_type": "markdown",
   "metadata": {},
   "source": [
    "# \\[YOUR TITLE\\]"
   ],
   "id": "f27751cc-c482-4ec1-b75d-592c5d8bf096"
  },
  {
   "cell_type": "markdown",
   "metadata": {},
   "source": [
    "## Quarto\n",
    "\n",
    "Quarto enables you to weave together content and executable code into a finished document. To learn more about Quarto see <https://quarto.org>.\n",
    "\n",
    "## Running Code\n",
    "\n",
    "When you click the **Render** button a document will be generated that includes both content and the output of embedded code. You can embed code like this:"
   ],
   "id": "d2e63deb-8b58-4281-8ea4-61e6f516eda7"
  },
  {
   "cell_type": "code",
   "execution_count": null,
   "metadata": {},
   "outputs": [],
   "source": [
    "1 + 1"
   ],
   "id": "32a569f7-c0bf-4a11-aa68-488bc6319627"
  },
  {
   "cell_type": "markdown",
   "metadata": {},
   "source": [
    "You can add options to executable code like this"
   ],
   "id": "c6b97e8c-ab2e-4811-b8c3-d0ffe1b2f295"
  },
  {
   "cell_type": "code",
   "execution_count": null,
   "metadata": {},
   "outputs": [],
   "source": [
    "2 * 2"
   ],
   "id": "0890684b-8d44-4b8d-a01d-751e936b0845"
  },
  {
   "cell_type": "markdown",
   "metadata": {},
   "source": [
    "The `echo: false` option disables the printing of code (only output is displayed)."
   ],
   "id": "95626271-fdc3-4a4e-be27-0eb7cf95c1cb"
  }
 ],
 "nbformat": 4,
 "nbformat_minor": 5,
 "metadata": {}
}
